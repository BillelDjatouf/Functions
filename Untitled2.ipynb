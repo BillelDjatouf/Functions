{
 "cells": [
  {
   "cell_type": "code",
   "execution_count": 15,
   "id": "a9850098",
   "metadata": {},
   "outputs": [
    {
     "name": "stdout",
     "output_type": "stream",
     "text": [
      "fdgkfgd5dfdg\n",
      "Numbers not allowed in names\n"
     ]
    }
   ],
   "source": []
  },
  {
   "cell_type": "code",
   "execution_count": 168,
   "id": "3b6d7725",
   "metadata": {},
   "outputs": [
    {
     "name": "stdout",
     "output_type": "stream",
     "text": [
      "14\n"
     ]
    }
   ],
   "source": []
  },
  {
   "cell_type": "code",
   "execution_count": 29,
   "id": "ee98ed55",
   "metadata": {},
   "outputs": [
    {
     "name": "stdout",
     "output_type": "stream",
     "text": [
      "True\n"
     ]
    }
   ],
   "source": []
  },
  {
   "cell_type": "code",
   "execution_count": 17,
   "id": "75a77c1f",
   "metadata": {},
   "outputs": [
    {
     "name": "stdout",
     "output_type": "stream",
     "text": [
      "c is the largest\n"
     ]
    }
   ],
   "source": [
    "def test1(a,b,c):\n",
    "    if a>b and a>c:\n",
    "        print(\"a is the largest\")\n",
    "    elif b>a and b>c:\n",
    "        print(\"b is the largest\")\n",
    "    else:\n",
    "        print(\"c is the largest\")\n",
    "test1(1,6,14)"
   ]
  },
  {
   "cell_type": "code",
   "execution_count": 51,
   "id": "e492ad55",
   "metadata": {},
   "outputs": [
    {
     "data": {
      "text/plain": [
       "(50, 30)"
      ]
     },
     "execution_count": 51,
     "metadata": {},
     "output_type": "execute_result"
    }
   ],
   "source": [
    "def sub_add(a,b):\n",
    "    s = a+b\n",
    "    s1 = a-b\n",
    "    return s,s1\n",
    "sub_add(40,10)"
   ]
  },
  {
   "cell_type": "code",
   "execution_count": 94,
   "id": "480b491b",
   "metadata": {},
   "outputs": [
    {
     "name": "stdout",
     "output_type": "stream",
     "text": [
      "20\n",
      "120\n"
     ]
    }
   ],
   "source": [
    "list1 = [1,2,3,4]\n",
    "def add(list1):\n",
    "    a = 0\n",
    "    for i in list1:\n",
    "        a = i + a\n",
    "    return a\n",
    "list2 = [5,6,7,8]\n",
    "def multi(list2):\n",
    "    b = 1\n",
    "    for i in list2:\n",
    "        b = i * b\n",
    "    return b\n",
    "\n",
    "list3 = [9,10,11,12]\n",
    "def add_multi(list3):\n",
    "    listpair= []\n",
    "    listimpair= []\n",
    "    for i in range(len(list3)):\n",
    "        if i%2 == 0:\n",
    "            listpair.append(list3[i])\n",
    "        else:\n",
    "            listimpair.append(list3[i])\n",
    "    print(add(listpair))\n",
    "    print(multi(listimpair))\n",
    "add_multi(list3)"
   ]
  },
  {
   "cell_type": "code",
   "execution_count": 129,
   "id": "0b9705b3",
   "metadata": {},
   "outputs": [
    {
     "name": "stdout",
     "output_type": "stream",
     "text": [
      "['black', 'green', 'red', 'white', 'yellow']\n"
     ]
    }
   ],
   "source": [
    "txt = \"green-red-yellow-black-white\"\n",
    "list1 = txt.split(\"-\")\n",
    "list1.sort()\n",
    "print(list1)"
   ]
  },
  {
   "cell_type": "code",
   "execution_count": 135,
   "id": "cdb380b0",
   "metadata": {},
   "outputs": [
    {
     "name": "stdout",
     "output_type": "stream",
     "text": [
      "['green', 'red', 'yellow', 'black', 'white']\n"
     ]
    },
    {
     "data": {
      "text/plain": [
       "'green red yellow black white'"
      ]
     },
     "execution_count": 135,
     "metadata": {},
     "output_type": "execute_result"
    }
   ],
   "source": [
    "txt = \"green-red-yellow-black-white\"\n",
    "list1 = txt.split(\"-\")\n",
    "print(list1)\n",
    "\" \".join(list1)"
   ]
  },
  {
   "cell_type": "code",
   "execution_count": 153,
   "id": "3d636b3e",
   "metadata": {},
   "outputs": [
    {
     "name": "stdout",
     "output_type": "stream",
     "text": [
      "100-150-180\n",
      "['100', '150', '180']\n",
      "18\n",
      "22\n",
      "24\n"
     ]
    }
   ],
   "source": [
    "from math import sqrt\n",
    "def formula():\n",
    "    C = 50\n",
    "    H = 30\n",
    "    D = input()\n",
    "    D = D.split(\"-\")\n",
    "    print(D)\n",
    "    for i in D:\n",
    "        Q = round(sqrt((2 * C * int(i))/H))\n",
    "        print(Q)\n",
    "        \n",
    "formula()"
   ]
  },
  {
   "cell_type": "code",
   "execution_count": null,
   "id": "84c1110c",
   "metadata": {},
   "outputs": [],
   "source": []
  },
  {
   "cell_type": "code",
   "execution_count": null,
   "id": "6a330885",
   "metadata": {},
   "outputs": [],
   "source": []
  }
 ],
 "metadata": {
  "kernelspec": {
   "display_name": "Python 3 (ipykernel)",
   "language": "python",
   "name": "python3"
  },
  "language_info": {
   "codemirror_mode": {
    "name": "ipython",
    "version": 3
   },
   "file_extension": ".py",
   "mimetype": "text/x-python",
   "name": "python",
   "nbconvert_exporter": "python",
   "pygments_lexer": "ipython3",
   "version": "3.9.12"
  }
 },
 "nbformat": 4,
 "nbformat_minor": 5
}
